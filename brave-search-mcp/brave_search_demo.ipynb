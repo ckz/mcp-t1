{
 "cells": [
  {
   "cell_type": "markdown",
   "metadata": {},
   "source": [
    "# Brave Search MCP Server and Client Demo\n",
    "\n",
    "This notebook demonstrates how to use the Brave Search MCP server and clients in Google Colab."
   ]
  },
  {
   "cell_type": "markdown",
   "metadata": {},
   "source": [
    "## 1. Install Dependencies\n",
    "\n",
    "First, let's install the required dependencies:"
   ]
  },
  {
   "cell_type": "code",
   "execution_count": 1,
   "metadata": {},
   "outputs": [
    {
     "name": "stdout",
     "output_type": "stream",
     "text": [
      "Requirement already satisfied: langchain in /usr/local/python/3.12.1/lib/python3.12/site-packages (0.3.20)\n",
      "Requirement already satisfied: langchain_openai in /usr/local/python/3.12.1/lib/python3.12/site-packages (0.3.8)\n",
      "Requirement already satisfied: autogen in /usr/local/python/3.12.1/lib/python3.12/site-packages (0.8.0)\n",
      "Requirement already satisfied: requests in /home/codespace/.local/lib/python3.12/site-packages (2.32.3)\n",
      "Requirement already satisfied: flask in /usr/local/python/3.12.1/lib/python3.12/site-packages (3.1.0)\n",
      "Requirement already satisfied: python-dotenv in /usr/local/python/3.12.1/lib/python3.12/site-packages (1.0.1)\n",
      "Requirement already satisfied: ipywidgets in /usr/local/python/3.12.1/lib/python3.12/site-packages (8.1.5)\n",
      "Requirement already satisfied: langchain-core<1.0.0,>=0.3.41 in /usr/local/python/3.12.1/lib/python3.12/site-packages (from langchain) (0.3.43)\n",
      "Requirement already satisfied: langchain-text-splitters<1.0.0,>=0.3.6 in /usr/local/python/3.12.1/lib/python3.12/site-packages (from langchain) (0.3.6)\n",
      "Requirement already satisfied: langsmith<0.4,>=0.1.17 in /usr/local/python/3.12.1/lib/python3.12/site-packages (from langchain) (0.3.13)\n",
      "Requirement already satisfied: pydantic<3.0.0,>=2.7.4 in /usr/local/python/3.12.1/lib/python3.12/site-packages (from langchain) (2.10.6)\n",
      "Requirement already satisfied: SQLAlchemy<3,>=1.4 in /usr/local/python/3.12.1/lib/python3.12/site-packages (from langchain) (2.0.38)\n",
      "Requirement already satisfied: PyYAML>=5.3 in /home/codespace/.local/lib/python3.12/site-packages (from langchain) (6.0.2)\n",
      "Requirement already satisfied: openai<2.0.0,>=1.58.1 in /usr/local/python/3.12.1/lib/python3.12/site-packages (from langchain_openai) (1.65.4)\n",
      "Requirement already satisfied: tiktoken<1,>=0.7 in /usr/local/python/3.12.1/lib/python3.12/site-packages (from langchain_openai) (0.9.0)\n",
      "Requirement already satisfied: pyautogen==0.8.0 in /usr/local/python/3.12.1/lib/python3.12/site-packages (from autogen) (0.8.0)\n",
      "Requirement already satisfied: asyncer==0.0.8 in /usr/local/python/3.12.1/lib/python3.12/site-packages (from pyautogen==0.8.0->autogen) (0.0.8)\n",
      "Requirement already satisfied: diskcache in /usr/local/python/3.12.1/lib/python3.12/site-packages (from pyautogen==0.8.0->autogen) (5.6.3)\n",
      "Requirement already satisfied: docker in /usr/local/python/3.12.1/lib/python3.12/site-packages (from pyautogen==0.8.0->autogen) (7.1.0)\n",
      "Requirement already satisfied: fast-depends<3,>=2.4.12 in /usr/local/python/3.12.1/lib/python3.12/site-packages (from pyautogen==0.8.0->autogen) (2.4.12)\n",
      "Requirement already satisfied: httpx<1,>=0.28.1 in /home/codespace/.local/lib/python3.12/site-packages (from pyautogen==0.8.0->autogen) (0.28.1)\n",
      "Requirement already satisfied: packaging in /home/codespace/.local/lib/python3.12/site-packages (from pyautogen==0.8.0->autogen) (24.2)\n",
      "Requirement already satisfied: termcolor in /usr/local/python/3.12.1/lib/python3.12/site-packages (from pyautogen==0.8.0->autogen) (2.5.0)\n",
      "Requirement already satisfied: anyio<5.0,>=3.4.0 in /home/codespace/.local/lib/python3.12/site-packages (from asyncer==0.0.8->pyautogen==0.8.0->autogen) (4.7.0)\n",
      "Requirement already satisfied: charset-normalizer<4,>=2 in /home/codespace/.local/lib/python3.12/site-packages (from requests) (3.4.0)\n",
      "Requirement already satisfied: idna<4,>=2.5 in /home/codespace/.local/lib/python3.12/site-packages (from requests) (3.10)\n",
      "Requirement already satisfied: urllib3<3,>=1.21.1 in /home/codespace/.local/lib/python3.12/site-packages (from requests) (2.2.3)\n",
      "Requirement already satisfied: certifi>=2017.4.17 in /home/codespace/.local/lib/python3.12/site-packages (from requests) (2024.8.30)\n",
      "Requirement already satisfied: Werkzeug>=3.1 in /usr/local/python/3.12.1/lib/python3.12/site-packages (from flask) (3.1.3)\n",
      "Requirement already satisfied: Jinja2>=3.1.2 in /home/codespace/.local/lib/python3.12/site-packages (from flask) (3.1.4)\n",
      "Requirement already satisfied: itsdangerous>=2.2 in /usr/local/python/3.12.1/lib/python3.12/site-packages (from flask) (2.2.0)\n",
      "Requirement already satisfied: click>=8.1.3 in /usr/local/python/3.12.1/lib/python3.12/site-packages (from flask) (8.1.8)\n",
      "Requirement already satisfied: blinker>=1.9 in /usr/local/python/3.12.1/lib/python3.12/site-packages (from flask) (1.9.0)\n",
      "Requirement already satisfied: comm>=0.1.3 in /home/codespace/.local/lib/python3.12/site-packages (from ipywidgets) (0.2.2)\n",
      "Requirement already satisfied: ipython>=6.1.0 in /home/codespace/.local/lib/python3.12/site-packages (from ipywidgets) (8.30.0)\n",
      "Requirement already satisfied: traitlets>=4.3.1 in /home/codespace/.local/lib/python3.12/site-packages (from ipywidgets) (5.14.3)\n",
      "Requirement already satisfied: widgetsnbextension~=4.0.12 in /usr/local/python/3.12.1/lib/python3.12/site-packages (from ipywidgets) (4.0.13)\n",
      "Requirement already satisfied: jupyterlab-widgets~=3.0.12 in /usr/local/python/3.12.1/lib/python3.12/site-packages (from ipywidgets) (3.0.13)\n",
      "Requirement already satisfied: decorator in /home/codespace/.local/lib/python3.12/site-packages (from ipython>=6.1.0->ipywidgets) (5.1.1)\n",
      "Requirement already satisfied: jedi>=0.16 in /home/codespace/.local/lib/python3.12/site-packages (from ipython>=6.1.0->ipywidgets) (0.19.2)\n",
      "Requirement already satisfied: matplotlib-inline in /home/codespace/.local/lib/python3.12/site-packages (from ipython>=6.1.0->ipywidgets) (0.1.7)\n",
      "Requirement already satisfied: pexpect>4.3 in /home/codespace/.local/lib/python3.12/site-packages (from ipython>=6.1.0->ipywidgets) (4.9.0)\n",
      "Requirement already satisfied: prompt_toolkit<3.1.0,>=3.0.41 in /home/codespace/.local/lib/python3.12/site-packages (from ipython>=6.1.0->ipywidgets) (3.0.48)\n",
      "Requirement already satisfied: pygments>=2.4.0 in /home/codespace/.local/lib/python3.12/site-packages (from ipython>=6.1.0->ipywidgets) (2.18.0)\n",
      "Requirement already satisfied: stack_data in /home/codespace/.local/lib/python3.12/site-packages (from ipython>=6.1.0->ipywidgets) (0.6.3)\n",
      "Requirement already satisfied: MarkupSafe>=2.0 in /home/codespace/.local/lib/python3.12/site-packages (from Jinja2>=3.1.2->flask) (3.0.2)\n",
      "Requirement already satisfied: tenacity!=8.4.0,<10.0.0,>=8.1.0 in /home/codespace/.local/lib/python3.12/site-packages (from langchain-core<1.0.0,>=0.3.41->langchain) (9.0.0)\n",
      "Requirement already satisfied: jsonpatch<2.0,>=1.33 in /usr/local/python/3.12.1/lib/python3.12/site-packages (from langchain-core<1.0.0,>=0.3.41->langchain) (1.33)\n",
      "Requirement already satisfied: typing-extensions>=4.7 in /home/codespace/.local/lib/python3.12/site-packages (from langchain-core<1.0.0,>=0.3.41->langchain) (4.12.2)\n",
      "Requirement already satisfied: orjson<4.0.0,>=3.9.14 in /usr/local/python/3.12.1/lib/python3.12/site-packages (from langsmith<0.4,>=0.1.17->langchain) (3.10.15)\n",
      "Requirement already satisfied: requests-toolbelt<2.0.0,>=1.0.0 in /usr/local/python/3.12.1/lib/python3.12/site-packages (from langsmith<0.4,>=0.1.17->langchain) (1.0.0)\n",
      "Requirement already satisfied: zstandard<0.24.0,>=0.23.0 in /usr/local/python/3.12.1/lib/python3.12/site-packages (from langsmith<0.4,>=0.1.17->langchain) (0.23.0)\n",
      "Requirement already satisfied: distro<2,>=1.7.0 in /usr/local/python/3.12.1/lib/python3.12/site-packages (from openai<2.0.0,>=1.58.1->langchain_openai) (1.9.0)\n",
      "Requirement already satisfied: jiter<1,>=0.4.0 in /usr/local/python/3.12.1/lib/python3.12/site-packages (from openai<2.0.0,>=1.58.1->langchain_openai) (0.8.2)\n",
      "Requirement already satisfied: sniffio in /home/codespace/.local/lib/python3.12/site-packages (from openai<2.0.0,>=1.58.1->langchain_openai) (1.3.1)\n",
      "Requirement already satisfied: tqdm>4 in /usr/local/python/3.12.1/lib/python3.12/site-packages (from openai<2.0.0,>=1.58.1->langchain_openai) (4.67.1)\n",
      "Requirement already satisfied: annotated-types>=0.6.0 in /usr/local/python/3.12.1/lib/python3.12/site-packages (from pydantic<3.0.0,>=2.7.4->langchain) (0.7.0)\n",
      "Requirement already satisfied: pydantic-core==2.27.2 in /usr/local/python/3.12.1/lib/python3.12/site-packages (from pydantic<3.0.0,>=2.7.4->langchain) (2.27.2)\n",
      "Requirement already satisfied: greenlet!=0.4.17 in /usr/local/python/3.12.1/lib/python3.12/site-packages (from SQLAlchemy<3,>=1.4->langchain) (3.1.1)\n",
      "Requirement already satisfied: regex>=2022.1.18 in /usr/local/python/3.12.1/lib/python3.12/site-packages (from tiktoken<1,>=0.7->langchain_openai) (2024.11.6)\n",
      "Requirement already satisfied: httpcore==1.* in /home/codespace/.local/lib/python3.12/site-packages (from httpx<1,>=0.28.1->pyautogen==0.8.0->autogen) (1.0.7)\n",
      "Requirement already satisfied: h11<0.15,>=0.13 in /home/codespace/.local/lib/python3.12/site-packages (from httpcore==1.*->httpx<1,>=0.28.1->pyautogen==0.8.0->autogen) (0.14.0)\n",
      "Requirement already satisfied: parso<0.9.0,>=0.8.4 in /home/codespace/.local/lib/python3.12/site-packages (from jedi>=0.16->ipython>=6.1.0->ipywidgets) (0.8.4)\n",
      "Requirement already satisfied: jsonpointer>=1.9 in /home/codespace/.local/lib/python3.12/site-packages (from jsonpatch<2.0,>=1.33->langchain-core<1.0.0,>=0.3.41->langchain) (3.0.0)\n",
      "Requirement already satisfied: ptyprocess>=0.5 in /home/codespace/.local/lib/python3.12/site-packages (from pexpect>4.3->ipython>=6.1.0->ipywidgets) (0.7.0)\n",
      "Requirement already satisfied: wcwidth in /home/codespace/.local/lib/python3.12/site-packages (from prompt_toolkit<3.1.0,>=3.0.41->ipython>=6.1.0->ipywidgets) (0.2.13)\n",
      "Requirement already satisfied: executing>=1.2.0 in /home/codespace/.local/lib/python3.12/site-packages (from stack_data->ipython>=6.1.0->ipywidgets) (2.1.0)\n",
      "Requirement already satisfied: asttokens>=2.1.0 in /home/codespace/.local/lib/python3.12/site-packages (from stack_data->ipython>=6.1.0->ipywidgets) (3.0.0)\n",
      "Requirement already satisfied: pure-eval in /home/codespace/.local/lib/python3.12/site-packages (from stack_data->ipython>=6.1.0->ipywidgets) (0.2.3)\n",
      "\n",
      "\u001b[1m[\u001b[0m\u001b[34;49mnotice\u001b[0m\u001b[1;39;49m]\u001b[0m\u001b[39;49m A new release of pip is available: \u001b[0m\u001b[31;49m24.3.1\u001b[0m\u001b[39;49m -> \u001b[0m\u001b[32;49m25.0.1\u001b[0m\n",
      "\u001b[1m[\u001b[0m\u001b[34;49mnotice\u001b[0m\u001b[1;39;49m]\u001b[0m\u001b[39;49m To update, run: \u001b[0m\u001b[32;49mpython3 -m pip install --upgrade pip\u001b[0m\n"
     ]
    }
   ],
   "source": [
    "!pip install langchain langchain_openai autogen requests flask python-dotenv ipywidgets"
   ]
  },
  {
   "cell_type": "markdown",
   "metadata": {},
   "source": [
    "## 2. Set Up Environment Variables\n",
    "\n",
    "Create a `.env` file with your API keys:"
   ]
  },
  {
   "cell_type": "code",
   "execution_count": 2,
   "metadata": {},
   "outputs": [
    {
     "name": "stdout",
     "output_type": "stream",
     "text": [
      "Overwriting .env\n"
     ]
    }
   ],
   "source": [
    "%%writefile .env\n",
    "# API Keys for MCP Server and Client\n",
    "BRAVE_SEARCH_API_KEY=your_brave_search_api_key_here\n",
    "OPENAI_API_KEY=your_openai_api_key_here"
   ]
  },
  {
   "cell_type": "markdown",
   "metadata": {},
   "source": [
    "## 3. Start the MCP Server\n",
    "\n",
    "Now let's start the MCP server:"
   ]
  },
  {
   "cell_type": "code",
   "execution_count": 3,
   "metadata": {},
   "outputs": [
    {
     "name": "stdout",
     "output_type": "stream",
     "text": [
      "Starting MCP server...\n",
      " * Serving Flask app '__main__'\n",
      " * Debug mode: off\n"
     ]
    },
    {
     "name": "stderr",
     "output_type": "stream",
     "text": [
      "Address already in use\n",
      "Port 8080 is in use by another program. Either identify and stop that program, or start the server with a different port.\n"
     ]
    },
    {
     "name": "stdout",
     "output_type": "stream",
     "text": [
      "MCP Server is now running at http://127.0.0.1:8080\n"
     ]
    }
   ],
   "source": [
    "import os\n",
    "import threading\n",
    "import time\n",
    "import requests\n",
    "from flask import Flask, request, jsonify\n",
    "from dotenv import load_dotenv\n",
    "\n",
    "# Load environment variables from .env file\n",
    "load_dotenv()\n",
    "\n",
    "# Get API keys from environment variables\n",
    "BRAVE_SEARCH_API_KEY = os.getenv(\"BRAVE_SEARCH_API_KEY\")\n",
    "if not BRAVE_SEARCH_API_KEY or BRAVE_SEARCH_API_KEY == \"your_brave_search_api_key_here\":\n",
    "    print(\"⚠️ Warning: BRAVE_SEARCH_API_KEY not properly set in .env file\")\n",
    "\n",
    "BRAVE_SEARCH_ENDPOINT = \"https://api.search.brave.com/res/v1/web/search\"\n",
    "\n",
    "# Create a Flask server\n",
    "app = Flask(__name__)\n",
    "\n",
    "# Add a basic route for testing\n",
    "@app.route('/', methods=['GET'])\n",
    "def hello():\n",
    "    return jsonify({\"status\": \"MCP server is running\"}), 200\n",
    "\n",
    "@app.route('/search', methods=['POST'])\n",
    "def search():\n",
    "    data = request.json\n",
    "    query = data.get('query', '')\n",
    "    count = data.get('count', 5)\n",
    "\n",
    "    # Call the actual Brave Search API\n",
    "    headers = {\n",
    "        \"Accept\": \"application/json\",\n",
    "        \"X-Subscription-Token\": BRAVE_SEARCH_API_KEY\n",
    "    }\n",
    "    params = {\n",
    "        \"q\": query,\n",
    "        \"count\": count\n",
    "    }\n",
    "\n",
    "    response = requests.get(BRAVE_SEARCH_ENDPOINT, headers=headers, params=params)\n",
    "\n",
    "    if response.status_code == 200:\n",
    "        # Process the response to match our expected format\n",
    "        results = response.json()\n",
    "        processed_results = {\n",
    "            \"results\": [\n",
    "                {\n",
    "                    \"title\": item.get(\"title\", \"\"),\n",
    "                    \"url\": item.get(\"url\", \"\"),\n",
    "                    \"description\": item.get(\"description\", \"\")\n",
    "                }\n",
    "                for item in results.get(\"web\", {}).get(\"results\", [])\n",
    "            ]\n",
    "        }\n",
    "        return jsonify(processed_results)\n",
    "    else:\n",
    "        return jsonify({\"error\": f\"Error: {response.status_code} - {response.text}\"}), 500\n",
    "\n",
    "# Function to run the Flask server in a separate thread\n",
    "def run_flask_server():\n",
    "    app.run(host='127.0.0.1', port=8080, debug=False, use_reloader=False)\n",
    "\n",
    "# Start the server in a background thread\n",
    "server_thread = threading.Thread(target=run_flask_server)\n",
    "server_thread.daemon = True\n",
    "server_thread.start()\n",
    "\n",
    "# Give the server time to start\n",
    "print(\"Starting MCP server...\")\n",
    "time.sleep(5)  # Increased wait time\n",
    "print(\"MCP Server is now running at http://127.0.0.1:8080\")"
   ]
  },
  {
   "cell_type": "markdown",
   "metadata": {},
   "source": [
    "## 4. Test the Server\n",
    "\n",
    "Let's test the server to make sure it's working correctly:"
   ]
  },
  {
   "cell_type": "code",
   "execution_count": 4,
   "metadata": {},
   "outputs": [
    {
     "name": "stdout",
     "output_type": "stream",
     "text": [
      "Testing direct API calls to the MCP server...\n",
      "Root endpoint test - Status: 200\n",
      "Root endpoint is working!\n",
      "Search endpoint test - Status: 200\n",
      "Search endpoint is working correctly!\n",
      "Response preview: {'results': [{'description': 'Hello Experts, I have one scenario/requirement to create Destinations for CTMS configuration. The Destinations TransportManagementService, ContentAssemblyService and Clou...\n"
     ]
    }
   ],
   "source": [
    "# Test direct API calls to confirm server is working\n",
    "print(\"Testing direct API calls to the MCP server...\")\n",
    "\n",
    "# First, test the root endpoint\n",
    "try:\n",
    "    root_response = requests.get(\"http://127.0.0.1:8080/\")\n",
    "    print(f\"Root endpoint test - Status: {root_response.status_code}\")\n",
    "    if root_response.status_code == 200:\n",
    "        print(\"Root endpoint is working!\")\n",
    "    else:\n",
    "        print(f\"Root endpoint error: {root_response.text}\")\n",
    "except Exception as e:\n",
    "    print(f\"Connection error to root endpoint: {str(e)}\")\n",
    "\n",
    "# Then, test the search endpoint\n",
    "try:\n",
    "    search_response = requests.post(\n",
    "        \"http://127.0.0.1:8080/search\",\n",
    "        headers={\"Content-Type\": \"application/json\"},\n",
    "        json={\"query\": \"test query\", \"count\": 1}\n",
    "    )\n",
    "    print(f\"Search endpoint test - Status: {search_response.status_code}\")\n",
    "    if search_response.status_code == 200:\n",
    "        print(\"Search endpoint is working correctly!\")\n",
    "        print(f\"Response preview: {str(search_response.json())[:200]}...\")\n",
    "    else:\n",
    "        print(f\"Search endpoint error: {search_response.text}\")\n",
    "except Exception as e:\n",
    "    print(f\"Connection error to search endpoint: {str(e)}\")"
   ]
  },
  {
   "cell_type": "markdown",
   "metadata": {},
   "source": [
    "## 5. LangChain Client Implementation\n",
    "\n",
    "Now let's implement the LangChain client:"
   ]
  },
  {
   "cell_type": "code",
   "execution_count": 5,
   "metadata": {},
   "outputs": [],
   "source": [
    "from langchain.tools import Tool\n",
    "from langchain_openai import ChatOpenAI\n",
    "from langchain.agents import AgentType, initialize_agent\n",
    "\n",
    "def brave_search(query):\n",
    "    \"\"\"Use Brave Search to find information on the web via local MCP server.\"\"\"\n",
    "    url = \"http://127.0.0.1:8080/search\"\n",
    "    headers = {\"Content-Type\": \"application/json\"}\n",
    "    payload = {\"query\": query, \"count\": 5}\n",
    "\n",
    "    response = requests.post(url, headers=headers, json=payload)\n",
    "    if response.status_code == 200:\n",
    "        results = response.json()\n",
    "        formatted_results = []\n",
    "        for i, result in enumerate(results.get(\"results\", [])):\n",
    "            formatted_results.append(f\"{i+1}. {result.get('title')}: {result.get('url')}\\n{result.get('description')}\\n\")\n",
    "        return \"\\n\".join(formatted_results)\n",
    "    else:\n",
    "        return f\"Error: {response.status_code} - {response.text}\"\n",
    "\n",
    "def run_langchain_demo(query):\n",
    "    # Create a LangChain tool\n",
    "    brave_tool = Tool(\n",
    "        name=\"BraveSearch\",\n",
    "        description=\"Useful for searching the web about current events, data, or any information you need to answer questions.\",\n",
    "        func=brave_search\n",
    "    )\n",
    "\n",
    "    # Initialize the LLM with API key from .env\n",
    "    openai_api_key = os.getenv(\"OPENAI_API_KEY\")\n",
    "    if not openai_api_key or openai_api_key == \"your_openai_api_key_here\":\n",
    "        print(\"⚠️ Warning: OPENAI_API_KEY not properly set in .env file\")\n",
    "\n",
    "    llm = ChatOpenAI(api_key=openai_api_key, temperature=0)\n",
    "\n",
    "    # Initialize the agent with the Brave Search tool\n",
    "    agent = initialize_agent(\n",
    "        [brave_tool],\n",
    "        llm,\n",
    "        agent=AgentType.ZERO_SHOT_REACT_DESCRIPTION,\n",
    "        verbose=True\n",
    "    )\n",
    "\n",
    "    return agent.run(query)"
   ]
  },
  {
   "cell_type": "markdown",
   "metadata": {},
   "source": [
    "## 6. AutoGen Client Implementation\n",
    "\n",
    "Now let's implement the AutoGen client:"
   ]
  },
  {
   "cell_type": "code",
   "execution_count": 6,
   "metadata": {},
   "outputs": [],
   "source": [
    "import autogen\n",
    "\n",
    "# Define the function to query the local MCP server\n",
    "def query_brave_search(query):\n",
    "    \"\"\"Query the local Brave Search MCP server.\"\"\"\n",
    "    url = \"http://127.0.0.1:8080/search\"\n",
    "    headers = {\"Content-Type\": \"application/json\"}\n",
    "    payload = {\"query\": query, \"count\": 5}\n",
    "\n",
    "    response = requests.post(url, headers=headers, json=payload)\n",
    "    if response.status_code == 200:\n",
    "        return response.json()\n",
    "    else:\n",
    "        return f\"Error: {response.status_code} - {response.text}\"\n",
    "\n",
    "def run_autogen_demo(query):\n",
    "    # Configure the LLM using API key from .env\n",
    "    openai_api_key = os.getenv(\"OPENAI_API_KEY\")\n",
    "    if not openai_api_key or openai_api_key == \"your_openai_api_key_here\":\n",
    "        print(\"⚠️ Warning: OPENAI_API_KEY not properly set in .env file\")\n",
    "\n",
    "    config_list = [\n",
    "        {\n",
    "            \"model\": \"gpt-4\",\n",
    "            \"api_key\": openai_api_key\n",
    "        }\n",
    "    ]\n",
    "\n",
    "    # Create AutoGen agents\n",
    "    assistant = autogen.AssistantAgent(\n",
    "        name=\"assistant\",\n",
    "        llm_config={\"config_list\": config_list}\n",
    "    )\n",
    "\n",
    "    user_proxy = autogen.UserProxyAgent(\n",
    "        name=\"user_proxy\",\n",
    "        human_input_mode=\"NEVER\",\n",
    "        max_consecutive_auto_reply=10,\n",
    "        code_execution_config={\"work_dir\": \"coding\"},\n",
    "        function_map={\"brave_search\": query_brave_search}\n",
    "    )\n",
    "\n",
    "    # Start the conversation\n",
    "    user_proxy.initiate_chat(\n",
    "        assistant,\n",
    "        message=f\"Use the brave_search function to find information about: {query}, then summarize the findings.\"\n",
    "    )"
   ]
  },
  {
   "cell_type": "markdown",
   "metadata": {},
   "source": [
    "## 7. Demo UI\n",
    "\n",
    "Finally, let's create a demo UI:"
   ]
  },
  {
   "cell_type": "code",
   "execution_count": 7,
   "metadata": {},
   "outputs": [
    {
     "data": {
      "application/vnd.jupyter.widget-view+json": {
       "model_id": "b06e06a1e320437ba8abee20898468ee",
       "version_major": 2,
       "version_minor": 0
      },
      "text/plain": [
       "RadioButtons(description='Demo Type:', options=('LangChain', 'AutoGen'), value='LangChain')"
      ]
     },
     "metadata": {},
     "output_type": "display_data"
    },
    {
     "data": {
      "application/vnd.jupyter.widget-view+json": {
       "model_id": "5388c379f52f4827acf6cb90ffb17a7e",
       "version_major": 2,
       "version_minor": 0
      },
      "text/plain": [
       "Text(value='What are the latest developments in quantum computing?', description='Query:', placeholder='Enter …"
      ]
     },
     "metadata": {},
     "output_type": "display_data"
    },
    {
     "data": {
      "application/vnd.jupyter.widget-view+json": {
       "model_id": "ebb316ddd4dd452891e482f3abc1653d",
       "version_major": 2,
       "version_minor": 0
      },
      "text/plain": [
       "Button(button_style='success', description='Run Demo', style=ButtonStyle(), tooltip='Click to run the selected…"
      ]
     },
     "metadata": {},
     "output_type": "display_data"
    },
    {
     "data": {
      "application/vnd.jupyter.widget-view+json": {
       "model_id": "4cf00769fdb649c4bcecfc1d25b775b1",
       "version_major": 2,
       "version_minor": 0
      },
      "text/plain": [
       "Output()"
      ]
     },
     "metadata": {},
     "output_type": "display_data"
    }
   ],
   "source": [
    "from IPython.display import HTML, display\n",
    "import ipywidgets as widgets\n",
    "\n",
    "# Create demo UI\n",
    "demo_type = widgets.RadioButtons(\n",
    "    options=['LangChain', 'AutoGen'],\n",
    "    description='Demo Type:',\n",
    "    disabled=False\n",
    ")\n",
    "\n",
    "query_input = widgets.Text(\n",
    "    value='What are the latest developments in quantum computing?',\n",
    "    placeholder='Enter your search query',\n",
    "    description='Query:',\n",
    "    disabled=False\n",
    ")\n",
    "\n",
    "run_button = widgets.Button(\n",
    "    description='Run Demo',\n",
    "    disabled=False,\n",
    "    button_style='success',\n",
    "    tooltip='Click to run the selected demo with your query'\n",
    ")\n",
    "\n",
    "output = widgets.Output()\n",
    "\n",
    "def on_button_click(b):\n",
    "    with output:\n",
    "        output.clear_output()\n",
    "        print(f\"Running {demo_type.value} demo with query: {query_input.value}\")\n",
    "        if demo_type.value == 'LangChain':\n",
    "            result = run_langchain_demo(query_input.value)\n",
    "            print(f\"\\nResult: {result}\")\n",
    "        else:\n",
    "            run_autogen_demo(query_input.value)\n",
    "\n",
    "run_button.on_click(on_button_click)\n",
    "\n",
    "# Display the UI\n",
    "display(demo_type, query_input, run_button, output)"
   ]
  },
  {
   "cell_type": "code",
   "execution_count": null,
   "metadata": {},
   "outputs": [],
   "source": []
  }
 ],
 "metadata": {
  "kernelspec": {
   "display_name": "Python 3 (ipykernel)",
   "language": "python",
   "name": "python3"
  },
  "language_info": {
   "codemirror_mode": {
    "name": "ipython",
    "version": 3
   },
   "file_extension": ".py",
   "mimetype": "text/x-python",
   "name": "python",
   "nbconvert_exporter": "python",
   "pygments_lexer": "ipython3",
   "version": "3.12.1"
  }
 },
 "nbformat": 4,
 "nbformat_minor": 4
}
